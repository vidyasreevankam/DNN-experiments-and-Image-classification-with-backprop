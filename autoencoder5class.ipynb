{
 "cells": [
  {
   "cell_type": "code",
   "execution_count": 1,
   "metadata": {},
   "outputs": [
    {
     "name": "stderr",
     "output_type": "stream",
     "text": [
      "Using TensorFlow backend.\n",
      "/home/apiiit-rkv/anaconda3/lib/python3.7/site-packages/tensorflow/python/framework/dtypes.py:516: FutureWarning: Passing (type, 1) or '1type' as a synonym of type is deprecated; in a future version of numpy, it will be understood as (type, (1,)) / '(1,)type'.\n",
      "  _np_qint8 = np.dtype([(\"qint8\", np.int8, 1)])\n",
      "/home/apiiit-rkv/anaconda3/lib/python3.7/site-packages/tensorflow/python/framework/dtypes.py:517: FutureWarning: Passing (type, 1) or '1type' as a synonym of type is deprecated; in a future version of numpy, it will be understood as (type, (1,)) / '(1,)type'.\n",
      "  _np_quint8 = np.dtype([(\"quint8\", np.uint8, 1)])\n",
      "/home/apiiit-rkv/anaconda3/lib/python3.7/site-packages/tensorflow/python/framework/dtypes.py:518: FutureWarning: Passing (type, 1) or '1type' as a synonym of type is deprecated; in a future version of numpy, it will be understood as (type, (1,)) / '(1,)type'.\n",
      "  _np_qint16 = np.dtype([(\"qint16\", np.int16, 1)])\n",
      "/home/apiiit-rkv/anaconda3/lib/python3.7/site-packages/tensorflow/python/framework/dtypes.py:519: FutureWarning: Passing (type, 1) or '1type' as a synonym of type is deprecated; in a future version of numpy, it will be understood as (type, (1,)) / '(1,)type'.\n",
      "  _np_quint16 = np.dtype([(\"quint16\", np.uint16, 1)])\n",
      "/home/apiiit-rkv/anaconda3/lib/python3.7/site-packages/tensorflow/python/framework/dtypes.py:520: FutureWarning: Passing (type, 1) or '1type' as a synonym of type is deprecated; in a future version of numpy, it will be understood as (type, (1,)) / '(1,)type'.\n",
      "  _np_qint32 = np.dtype([(\"qint32\", np.int32, 1)])\n",
      "/home/apiiit-rkv/anaconda3/lib/python3.7/site-packages/tensorflow/python/framework/dtypes.py:525: FutureWarning: Passing (type, 1) or '1type' as a synonym of type is deprecated; in a future version of numpy, it will be understood as (type, (1,)) / '(1,)type'.\n",
      "  np_resource = np.dtype([(\"resource\", np.ubyte, 1)])\n",
      "/home/apiiit-rkv/anaconda3/lib/python3.7/site-packages/tensorboard/compat/tensorflow_stub/dtypes.py:541: FutureWarning: Passing (type, 1) or '1type' as a synonym of type is deprecated; in a future version of numpy, it will be understood as (type, (1,)) / '(1,)type'.\n",
      "  _np_qint8 = np.dtype([(\"qint8\", np.int8, 1)])\n",
      "/home/apiiit-rkv/anaconda3/lib/python3.7/site-packages/tensorboard/compat/tensorflow_stub/dtypes.py:542: FutureWarning: Passing (type, 1) or '1type' as a synonym of type is deprecated; in a future version of numpy, it will be understood as (type, (1,)) / '(1,)type'.\n",
      "  _np_quint8 = np.dtype([(\"quint8\", np.uint8, 1)])\n",
      "/home/apiiit-rkv/anaconda3/lib/python3.7/site-packages/tensorboard/compat/tensorflow_stub/dtypes.py:543: FutureWarning: Passing (type, 1) or '1type' as a synonym of type is deprecated; in a future version of numpy, it will be understood as (type, (1,)) / '(1,)type'.\n",
      "  _np_qint16 = np.dtype([(\"qint16\", np.int16, 1)])\n",
      "/home/apiiit-rkv/anaconda3/lib/python3.7/site-packages/tensorboard/compat/tensorflow_stub/dtypes.py:544: FutureWarning: Passing (type, 1) or '1type' as a synonym of type is deprecated; in a future version of numpy, it will be understood as (type, (1,)) / '(1,)type'.\n",
      "  _np_quint16 = np.dtype([(\"quint16\", np.uint16, 1)])\n",
      "/home/apiiit-rkv/anaconda3/lib/python3.7/site-packages/tensorboard/compat/tensorflow_stub/dtypes.py:545: FutureWarning: Passing (type, 1) or '1type' as a synonym of type is deprecated; in a future version of numpy, it will be understood as (type, (1,)) / '(1,)type'.\n",
      "  _np_qint32 = np.dtype([(\"qint32\", np.int32, 1)])\n",
      "/home/apiiit-rkv/anaconda3/lib/python3.7/site-packages/tensorboard/compat/tensorflow_stub/dtypes.py:550: FutureWarning: Passing (type, 1) or '1type' as a synonym of type is deprecated; in a future version of numpy, it will be understood as (type, (1,)) / '(1,)type'.\n",
      "  np_resource = np.dtype([(\"resource\", np.ubyte, 1)])\n"
     ]
    }
   ],
   "source": [
    "from __future__ import print_function\n",
    "import keras\n",
    "import os\n",
    "from keras.models import Sequential\n",
    "from keras.layers import Dense, Conv2D, MaxPooling2D, Dropout, Flatten, Input,UpSampling2D\n",
    "#from keras.preprocessing.image import ImageDataGenerator\n",
    "from keras.utils import to_categorical\n",
    "from keras.models import Model\n",
    "from keras.optimizers import RMSprop\n",
    "from sklearn.model_selection import train_test_split\n",
    "from keras import optimizers\n",
    "from keras.layers import merge\n",
    "#keras.layers.Concatenate\n",
    "#from keras.layers import Concatenate\n",
    "from keras.layers import Reshape\n",
    "import numpy as np\n",
    "import matplotlib.pyplot as plt"
   ]
  },
  {
   "cell_type": "code",
   "execution_count": 6,
   "metadata": {},
   "outputs": [],
   "source": [
    "data_path1 = '/home/apiiit-rkv/Desktop/tot/tottrain/dog/'"
   ]
  },
  {
   "cell_type": "code",
   "execution_count": 7,
   "metadata": {},
   "outputs": [
    {
     "name": "stdout",
     "output_type": "stream",
     "text": [
      "(30720, 256)\n"
     ]
    }
   ],
   "source": [
    "\n",
    "imgs1 = np.empty((256, 256), int)\n",
    "filenames = sorted(os.listdir(data_path1))\n",
    "p1=0\n",
    "for img_name in filenames:\n",
    "    img = plt.imread(data_path1 + img_name)\n",
    "    img  = np.resize(img, (256, 256))\n",
    "    if p1==0:\n",
    "      imgs1=(img)\n",
    "      p1=1\n",
    "    else:\n",
    "      imgs1 = np.append(imgs1, img, axis=0)\n",
    "print(imgs1.shape)"
   ]
  },
  {
   "cell_type": "code",
   "execution_count": 8,
   "metadata": {},
   "outputs": [],
   "source": [
    "imgs1 = np.reshape(imgs1, [ 120, 256, 256])"
   ]
  },
  {
   "cell_type": "code",
   "execution_count": 9,
   "metadata": {},
   "outputs": [],
   "source": [
    "train_images1, test_images1 = train_test_split(imgs1,test_size=0.20, random_state=42)"
   ]
  },
  {
   "cell_type": "code",
   "execution_count": 10,
   "metadata": {},
   "outputs": [
    {
     "name": "stdout",
     "output_type": "stream",
     "text": [
      "(96, 256, 256)\n",
      "(24, 256, 256)\n"
     ]
    }
   ],
   "source": [
    "print(train_images1.shape)\n",
    "print(test_images1.shape)"
   ]
  },
  {
   "cell_type": "code",
   "execution_count": 11,
   "metadata": {},
   "outputs": [],
   "source": [
    "nRows1,nCols1 = train_images1.shape[1:]\n",
    "nDims1 = nRows1"
   ]
  },
  {
   "cell_type": "code",
   "execution_count": 12,
   "metadata": {},
   "outputs": [],
   "source": [
    "train_data1 = train_images1.reshape(train_images1.shape[0], nRows1, nCols1, 1)\n",
    "test_data1 = test_images1.reshape(test_images1.shape[0], nRows1, nCols1, 1)"
   ]
  },
  {
   "cell_type": "code",
   "execution_count": 13,
   "metadata": {},
   "outputs": [
    {
     "name": "stdout",
     "output_type": "stream",
     "text": [
      "(256, 256, 1)\n"
     ]
    }
   ],
   "source": [
    "input_shape1 = (nRows1, nCols1, 1)\n",
    "train_data1 = train_data1.astype('float32')\n",
    "test_data1 = test_data1.astype('float32')\n",
    "\n",
    "print(input_shape1)"
   ]
  },
  {
   "cell_type": "code",
   "execution_count": 14,
   "metadata": {},
   "outputs": [],
   "source": [
    "train_data1 /= 255\n",
    "test_data1 /= 255\n"
   ]
  },
  {
   "cell_type": "code",
   "execution_count": 15,
   "metadata": {},
   "outputs": [
    {
     "name": "stdout",
     "output_type": "stream",
     "text": [
      "Starting auto1\n",
      "WARNING:tensorflow:From /home/apiiit-rkv/anaconda3/lib/python3.7/site-packages/tensorflow/python/ops/nn_impl.py:182: add_dispatch_support.<locals>.wrapper (from tensorflow.python.ops.array_ops) is deprecated and will be removed in a future version.\n",
      "Instructions for updating:\n",
      "Use tf.where in 2.0, which has the same broadcast rule as np.where\n",
      "Starting autoencoder\n",
      "Model: \"model_1\"\n",
      "_________________________________________________________________\n",
      "Layer (type)                 Output Shape              Param #   \n",
      "=================================================================\n",
      "input_1 (InputLayer)         (None, 256, 256, 1)       0         \n",
      "_________________________________________________________________\n",
      "conv2d_1 (Conv2D)            (None, 256, 256, 16)      160       \n",
      "_________________________________________________________________\n",
      "max_pooling2d_1 (MaxPooling2 (None, 128, 128, 16)      0         \n",
      "_________________________________________________________________\n",
      "conv2d_2 (Conv2D)            (None, 128, 128, 8)       1160      \n",
      "_________________________________________________________________\n",
      "max_pooling2d_2 (MaxPooling2 (None, 64, 64, 8)         0         \n",
      "_________________________________________________________________\n",
      "conv2d_3 (Conv2D)            (None, 64, 64, 8)         584       \n",
      "_________________________________________________________________\n",
      "encoder (MaxPooling2D)       (None, 32, 32, 8)         0         \n",
      "_________________________________________________________________\n",
      "conv2d_4 (Conv2D)            (None, 32, 32, 8)         584       \n",
      "_________________________________________________________________\n",
      "up_sampling2d_1 (UpSampling2 (None, 64, 64, 8)         0         \n",
      "_________________________________________________________________\n",
      "conv2d_5 (Conv2D)            (None, 64, 64, 8)         584       \n",
      "_________________________________________________________________\n",
      "up_sampling2d_2 (UpSampling2 (None, 128, 128, 8)       0         \n",
      "_________________________________________________________________\n",
      "conv2d_6 (Conv2D)            (None, 128, 128, 16)      1168      \n",
      "_________________________________________________________________\n",
      "up_sampling2d_3 (UpSampling2 (None, 256, 256, 16)      0         \n",
      "_________________________________________________________________\n",
      "conv2d_7 (Conv2D)            (None, 256, 256, 1)       145       \n",
      "=================================================================\n",
      "Total params: 4,385\n",
      "Trainable params: 4,385\n",
      "Non-trainable params: 0\n",
      "_________________________________________________________________\n"
     ]
    }
   ],
   "source": [
    "def encoder1(input_shape):\n",
    "    x = Conv2D(16,(3,3), activation='relu', padding='same')(input_shape)\n",
    "    x = MaxPooling2D((2,2), padding='same')(x)\n",
    "    x = Conv2D(8,(3,3), activation='relu', padding='same')(x)\n",
    "    x = MaxPooling2D((2,2), padding='same')(x)\n",
    "    x = Conv2D(8,(3,3), activation='relu', padding='same')(x)\n",
    "    encoded1 = MaxPooling2D((2,2), padding='same', name='encoder')(x)\n",
    "    return encoded1\n",
    "def decoder1(input_shape):\n",
    "    encoded=encoder1(input_shape)\n",
    "    x = Conv2D(8, (3, 3), activation='relu', padding='same')(encoded)\n",
    "    x = UpSampling2D((2, 2))(x)\n",
    "    x = Conv2D(8, (3, 3), activation='relu', padding='same')(x)\n",
    "    x = UpSampling2D((2, 2))(x)\n",
    "    x = Conv2D(16, (3, 3), activation='relu',padding='same')(x)\n",
    "    x = UpSampling2D((2, 2))(x)\n",
    "    decoded1 = Conv2D(1, (3, 3), activation='sigmoid', padding='same')(x)\n",
    "    return decoded1\n",
    "    #model.add(BatchNormalization(axis=-1))\n",
    "    #decode=model.add(Activation('relu'))\n",
    "print ('Starting auto1')\n",
    "input_shape = Input(shape = [256,256,1])\n",
    "model1 = Model(input_shape,decoder1(input_shape))\n",
    "model1.compile(loss='binary_crossentropy', optimizer='adam', metrics=['accuracy'])\n",
    "print ('Starting autoencoder')\n",
    "model1.summary()\n"
   ]
  },
  {
   "cell_type": "code",
   "execution_count": 16,
   "metadata": {},
   "outputs": [
    {
     "name": "stdout",
     "output_type": "stream",
     "text": [
      "Train on 96 samples, validate on 24 samples\n",
      "Epoch 1/1\n",
      "96/96 [==============================] - 11s 120ms/step - loss: 0.6917 - accuracy: 0.0045 - val_loss: 0.6884 - val_accuracy: 0.0046\n"
     ]
    },
    {
     "data": {
      "text/plain": [
       "[0.6884292960166931, 0.004611968994140625]"
      ]
     },
     "execution_count": 16,
     "metadata": {},
     "output_type": "execute_result"
    }
   ],
   "source": [
    "batch_size = 2\n",
    "epochs = 1\n",
    "history = model1.fit(train_data1,train_data1,batch_size=batch_size,epochs=epochs,verbose=1,validation_data=(test_data1, test_data1))\n",
    "model1.evaluate(test_data1, test_data1,verbose=0)\n"
   ]
  },
  {
   "cell_type": "code",
   "execution_count": 17,
   "metadata": {},
   "outputs": [],
   "source": [
    "data_path2 = '/home/apiiit-rkv/Desktop/tot/tottrain1/horse/'"
   ]
  },
  {
   "cell_type": "code",
   "execution_count": 18,
   "metadata": {},
   "outputs": [
    {
     "name": "stdout",
     "output_type": "stream",
     "text": [
      "(30720, 256)\n"
     ]
    }
   ],
   "source": [
    "imgs2 = np.empty((256, 256), int)\n",
    "filenames = sorted(os.listdir(data_path2))\n",
    "p2=0\n",
    "for img_name in filenames:\n",
    "    img = plt.imread(data_path2 + img_name)\n",
    "    img  = np.resize(img, (256, 256))\n",
    "    if p2==0:\n",
    "      imgs2=(img)\n",
    "      p2=1\n",
    "    else:\n",
    "      imgs2 = np.append(imgs2, img, axis=0)\n",
    "print(imgs2.shape)"
   ]
  },
  {
   "cell_type": "code",
   "execution_count": 19,
   "metadata": {},
   "outputs": [],
   "source": [
    "imgs2 = np.reshape(imgs2, [ 120, 256, 256])\n",
    "train_images2, test_images2 = train_test_split(imgs2, test_size=0.33, random_state=42)\n",
    "nRows2,nCols2 = train_images2.shape[1:]\n",
    "nDims2 = nRows2\n",
    "train_data2 = train_images2.reshape(train_images2.shape[0], nRows2, nCols2, 1)\n",
    "test_data2 = test_images2.reshape(test_images2.shape[0], nRows2, nCols2, 1)\n",
    "input_shape2 = (nRows2, nCols2, 1)\n",
    "train_data2 = train_data2.astype('float32')\n",
    "test_data2 = test_data2.astype('float32')\n",
    "train_data2 /= 255\n",
    "test_data2 /= 255"
   ]
  },
  {
   "cell_type": "code",
   "execution_count": 20,
   "metadata": {},
   "outputs": [
    {
     "name": "stdout",
     "output_type": "stream",
     "text": [
      "Starting auto2\n",
      "Starting autoencoder\n",
      "Model: \"model_2\"\n",
      "_________________________________________________________________\n",
      "Layer (type)                 Output Shape              Param #   \n",
      "=================================================================\n",
      "input_2 (InputLayer)         (None, 256, 256, 1)       0         \n",
      "_________________________________________________________________\n",
      "conv2d_8 (Conv2D)            (None, 256, 256, 16)      160       \n",
      "_________________________________________________________________\n",
      "max_pooling2d_3 (MaxPooling2 (None, 128, 128, 16)      0         \n",
      "_________________________________________________________________\n",
      "conv2d_9 (Conv2D)            (None, 128, 128, 8)       1160      \n",
      "_________________________________________________________________\n",
      "max_pooling2d_4 (MaxPooling2 (None, 64, 64, 8)         0         \n",
      "_________________________________________________________________\n",
      "conv2d_10 (Conv2D)           (None, 64, 64, 8)         584       \n",
      "_________________________________________________________________\n",
      "encoder0 (MaxPooling2D)      (None, 32, 32, 8)         0         \n",
      "_________________________________________________________________\n",
      "conv2d_11 (Conv2D)           (None, 32, 32, 8)         584       \n",
      "_________________________________________________________________\n",
      "up_sampling2d_4 (UpSampling2 (None, 64, 64, 8)         0         \n",
      "_________________________________________________________________\n",
      "conv2d_12 (Conv2D)           (None, 64, 64, 8)         584       \n",
      "_________________________________________________________________\n",
      "up_sampling2d_5 (UpSampling2 (None, 128, 128, 8)       0         \n",
      "_________________________________________________________________\n",
      "conv2d_13 (Conv2D)           (None, 128, 128, 16)      1168      \n",
      "_________________________________________________________________\n",
      "up_sampling2d_6 (UpSampling2 (None, 256, 256, 16)      0         \n",
      "_________________________________________________________________\n",
      "conv2d_14 (Conv2D)           (None, 256, 256, 1)       145       \n",
      "=================================================================\n",
      "Total params: 4,385\n",
      "Trainable params: 4,385\n",
      "Non-trainable params: 0\n",
      "_________________________________________________________________\n"
     ]
    }
   ],
   "source": [
    "def encoder2(input_shape):\n",
    "    x = Conv2D(16,(3,3), activation='relu', padding='same')(input_shape)\n",
    "    x = MaxPooling2D((2,2), padding='same')(x)\n",
    "    x = Conv2D(8,(3,3), activation='relu', padding='same')(x)\n",
    "    x = MaxPooling2D((2,2), padding='same')(x)\n",
    "    x = Conv2D(8,(3,3), activation='relu', padding='same')(x)\n",
    "    encoded2 = MaxPooling2D((2,2), padding='same', name='encoder0')(x)\n",
    "    return encoded2\n",
    "def decoder2(input_shape):\n",
    "    encoded=encoder2(input_shape)\n",
    "    x = Conv2D(8, (3, 3), activation='relu', padding='same')(encoded)\n",
    "    x = UpSampling2D((2, 2))(x)\n",
    "    x = Conv2D(8, (3, 3), activation='relu', padding='same')(x)\n",
    "    x = UpSampling2D((2, 2))(x)\n",
    "    x = Conv2D(16, (3, 3), activation='relu',padding='same')(x)\n",
    "    x = UpSampling2D((2, 2))(x)\n",
    "    decoded2 = Conv2D(1, (3, 3), activation='sigmoid', padding='same')(x)\n",
    "    return decoded2\n",
    "    #model.add(BatchNormalization(axis=-1))\n",
    "    #decode=model.add(Activation('relu'))\n",
    "print ('Starting auto2')\n",
    "input_shape = Input(shape = [256,256,1])\n",
    "model2 = Model(input_shape,decoder2(input_shape))\n",
    "model2.compile(loss='binary_crossentropy', optimizer='adam', metrics=['accuracy'])\n",
    "print ('Starting autoencoder')\n",
    "model2.summary()\n"
   ]
  },
  {
   "cell_type": "code",
   "execution_count": 21,
   "metadata": {},
   "outputs": [],
   "source": [
    "data_path3 = '/home/apiiit-rkv/Desktop/tot/tottrain2/cat/'"
   ]
  },
  {
   "cell_type": "code",
   "execution_count": 22,
   "metadata": {},
   "outputs": [
    {
     "name": "stdout",
     "output_type": "stream",
     "text": [
      "(30720, 256)\n"
     ]
    }
   ],
   "source": [
    "imgs3 = np.empty((256, 256), int)\n",
    "filenames = sorted(os.listdir(data_path3))\n",
    "p3=0\n",
    "for img_name in filenames:\n",
    "    img = plt.imread(data_path3 + img_name)\n",
    "    img  = np.resize(img, (256, 256))\n",
    "    if p3==0:\n",
    "      imgs3=(img)\n",
    "      p3=1\n",
    "    else:\n",
    "      imgs3 = np.append(imgs3, img, axis=0)\n",
    "print(imgs3.shape)"
   ]
  },
  {
   "cell_type": "code",
   "execution_count": 23,
   "metadata": {},
   "outputs": [],
   "source": [
    "imgs3 = np.reshape(imgs3, [ 120, 256, 256])"
   ]
  },
  {
   "cell_type": "code",
   "execution_count": 24,
   "metadata": {},
   "outputs": [],
   "source": [
    "train_images3, test_images3 = train_test_split(imgs3,test_size=0.20, random_state=42)"
   ]
  },
  {
   "cell_type": "code",
   "execution_count": 25,
   "metadata": {},
   "outputs": [
    {
     "name": "stdout",
     "output_type": "stream",
     "text": [
      "(96, 256, 256)\n",
      "(24, 256, 256)\n"
     ]
    }
   ],
   "source": [
    "print(train_images3.shape)\n",
    "print(test_images3.shape)"
   ]
  },
  {
   "cell_type": "code",
   "execution_count": 26,
   "metadata": {},
   "outputs": [],
   "source": [
    "nRows3,nCols3 = train_images3.shape[1:]\n",
    "nDims3 = nRows3"
   ]
  },
  {
   "cell_type": "code",
   "execution_count": 27,
   "metadata": {},
   "outputs": [],
   "source": [
    "train_data3 = train_images3.reshape(train_images3.shape[0], nRows1, nCols1, 1)\n",
    "test_data3 = test_images3.reshape(test_images3.shape[0], nRows1, nCols1, 1)"
   ]
  },
  {
   "cell_type": "code",
   "execution_count": 28,
   "metadata": {},
   "outputs": [
    {
     "name": "stdout",
     "output_type": "stream",
     "text": [
      "(256, 256, 1)\n"
     ]
    }
   ],
   "source": [
    "input_shape3 = (nRows3, nCols3, 1)\n",
    "train_data3 = train_data1.astype('float32')\n",
    "test_data3 = test_data1.astype('float32')\n",
    "\n",
    "print(input_shape3)"
   ]
  },
  {
   "cell_type": "code",
   "execution_count": 29,
   "metadata": {},
   "outputs": [],
   "source": [
    "train_data3 /= 255\n",
    "test_data3 /= 255\n"
   ]
  },
  {
   "cell_type": "code",
   "execution_count": 30,
   "metadata": {},
   "outputs": [
    {
     "name": "stdout",
     "output_type": "stream",
     "text": [
      "Starting auto3\n",
      "Starting autoencoder\n",
      "Model: \"model_3\"\n",
      "_________________________________________________________________\n",
      "Layer (type)                 Output Shape              Param #   \n",
      "=================================================================\n",
      "input_3 (InputLayer)         (None, 256, 256, 1)       0         \n",
      "_________________________________________________________________\n",
      "7 (Conv2D)                   (None, 256, 256, 16)      160       \n",
      "_________________________________________________________________\n",
      "max_pooling2d_5 (MaxPooling2 (None, 128, 128, 16)      0         \n",
      "_________________________________________________________________\n",
      "8 (Conv2D)                   (None, 128, 128, 8)       1160      \n",
      "_________________________________________________________________\n",
      "max_pooling2d_6 (MaxPooling2 (None, 64, 64, 8)         0         \n",
      "_________________________________________________________________\n",
      "9 (Conv2D)                   (None, 64, 64, 8)         584       \n",
      "_________________________________________________________________\n",
      "encoder3 (MaxPooling2D)      (None, 32, 32, 8)         0         \n",
      "_________________________________________________________________\n",
      "conv2d_15 (Conv2D)           (None, 32, 32, 8)         584       \n",
      "_________________________________________________________________\n",
      "up_sampling2d_7 (UpSampling2 (None, 64, 64, 8)         0         \n",
      "_________________________________________________________________\n",
      "conv2d_16 (Conv2D)           (None, 64, 64, 8)         584       \n",
      "_________________________________________________________________\n",
      "up_sampling2d_8 (UpSampling2 (None, 128, 128, 8)       0         \n",
      "_________________________________________________________________\n",
      "conv2d_17 (Conv2D)           (None, 128, 128, 16)      1168      \n",
      "_________________________________________________________________\n",
      "up_sampling2d_9 (UpSampling2 (None, 256, 256, 16)      0         \n",
      "_________________________________________________________________\n",
      "conv2d_18 (Conv2D)           (None, 256, 256, 1)       145       \n",
      "=================================================================\n",
      "Total params: 4,385\n",
      "Trainable params: 4,385\n",
      "Non-trainable params: 0\n",
      "_________________________________________________________________\n"
     ]
    }
   ],
   "source": [
    "def encoder3(input_shape):\n",
    "    x = Conv2D(16,(3,3), activation='relu', padding='same',name='7')(input_shape)\n",
    "    x = MaxPooling2D((2,2), padding='same')(x)\n",
    "    x = Conv2D(8,(3,3), activation='relu', padding='same',name='8')(x)\n",
    "    x = MaxPooling2D((2,2), padding='same')(x)\n",
    "    x = Conv2D(8,(3,3), activation='relu', padding='same',name='9')(x)\n",
    "    encoded3 = MaxPooling2D((2,2), padding='same', name='encoder3')(x)\n",
    "    return encoded3\n",
    "def decoder3(input_shape):\n",
    "    encoded=encoder3(input_shape)\n",
    "    x = Conv2D(8, (3, 3), activation='relu', padding='same')(encoded)\n",
    "    x = UpSampling2D((2, 2))(x)\n",
    "    x = Conv2D(8, (3, 3), activation='relu', padding='same')(x)\n",
    "    x = UpSampling2D((2, 2))(x)\n",
    "    x = Conv2D(16, (3, 3), activation='relu',padding='same')(x)\n",
    "    x = UpSampling2D((2, 2))(x)\n",
    "    decoded3 = Conv2D(1, (3, 3), activation='sigmoid', padding='same')(x)\n",
    "    return decoded3\n",
    "    #model.add(BatchNormalization(axis=-1))\n",
    "    #decode=model.add(Activation('relu'))\n",
    "print ('Starting auto3')\n",
    "input_shape = Input(shape = [256,256,1])\n",
    "model3 = Model(input_shape,decoder3(input_shape))\n",
    "model3.compile(loss='binary_crossentropy', optimizer='adam', metrics=['accuracy'])\n",
    "print ('Starting autoencoder')\n",
    "model3.summary()"
   ]
  },
  {
   "cell_type": "code",
   "execution_count": 31,
   "metadata": {},
   "outputs": [],
   "source": [
    "data_path4 = '/home/apiiit-rkv/Desktop/tot/tottrain3/elephant/'"
   ]
  },
  {
   "cell_type": "code",
   "execution_count": 32,
   "metadata": {},
   "outputs": [
    {
     "name": "stdout",
     "output_type": "stream",
     "text": [
      "(30720, 256)\n"
     ]
    }
   ],
   "source": [
    "imgs4 = np.empty((256, 256), int)\n",
    "filenames = sorted(os.listdir(data_path4))\n",
    "p4=0\n",
    "for img_name in filenames:\n",
    "    img = plt.imread(data_path4 + img_name)\n",
    "    img  = np.resize(img, (256, 256))\n",
    "    if p4==0:\n",
    "      imgs4=(img)\n",
    "      p4=1\n",
    "    else:\n",
    "      imgs4 = np.append(imgs4, img, axis=0)\n",
    "print(imgs4.shape)"
   ]
  },
  {
   "cell_type": "code",
   "execution_count": 33,
   "metadata": {},
   "outputs": [],
   "source": [
    "imgs4 = np.reshape(imgs4, [ 120, 256, 256])"
   ]
  },
  {
   "cell_type": "code",
   "execution_count": 34,
   "metadata": {},
   "outputs": [],
   "source": [
    "train_images4, test_images4 = train_test_split(imgs4,test_size=0.20, random_state=42)"
   ]
  },
  {
   "cell_type": "code",
   "execution_count": 35,
   "metadata": {},
   "outputs": [
    {
     "name": "stdout",
     "output_type": "stream",
     "text": [
      "(96, 256, 256)\n",
      "(24, 256, 256)\n"
     ]
    }
   ],
   "source": [
    "print(train_images4.shape)\n",
    "print(test_images4.shape)"
   ]
  },
  {
   "cell_type": "code",
   "execution_count": 36,
   "metadata": {},
   "outputs": [],
   "source": [
    "nRows4,nCols4 = train_images4.shape[1:]\n",
    "nDims4 = nRows4"
   ]
  },
  {
   "cell_type": "code",
   "execution_count": 37,
   "metadata": {},
   "outputs": [],
   "source": [
    "train_data4 = train_images4.reshape(train_images4.shape[0], nRows1, nCols1, 1)\n",
    "test_data4 = test_images4.reshape(test_images4.shape[0], nRows1, nCols1, 1)"
   ]
  },
  {
   "cell_type": "code",
   "execution_count": 38,
   "metadata": {},
   "outputs": [
    {
     "name": "stdout",
     "output_type": "stream",
     "text": [
      "(256, 256, 1)\n"
     ]
    }
   ],
   "source": [
    "input_shape4 = (nRows4, nCols4, 1)\n",
    "train_data4 = train_data4.astype('float32')\n",
    "test_data4 = test_data4.astype('float32')\n",
    "\n",
    "print(input_shape4)"
   ]
  },
  {
   "cell_type": "code",
   "execution_count": 39,
   "metadata": {},
   "outputs": [],
   "source": [
    "train_data4 /= 255\n",
    "test_data4 /= 255\n"
   ]
  },
  {
   "cell_type": "code",
   "execution_count": 40,
   "metadata": {},
   "outputs": [
    {
     "name": "stdout",
     "output_type": "stream",
     "text": [
      "Starting auto4\n",
      "Starting autoencoder\n",
      "Model: \"model_4\"\n",
      "_________________________________________________________________\n",
      "Layer (type)                 Output Shape              Param #   \n",
      "=================================================================\n",
      "input_4 (InputLayer)         (None, 256, 256, 1)       0         \n",
      "_________________________________________________________________\n",
      "17 (Conv2D)                  (None, 256, 256, 16)      160       \n",
      "_________________________________________________________________\n",
      "max_pooling2d_7 (MaxPooling2 (None, 128, 128, 16)      0         \n",
      "_________________________________________________________________\n",
      "18 (Conv2D)                  (None, 128, 128, 8)       1160      \n",
      "_________________________________________________________________\n",
      "max_pooling2d_8 (MaxPooling2 (None, 64, 64, 8)         0         \n",
      "_________________________________________________________________\n",
      "19 (Conv2D)                  (None, 64, 64, 8)         584       \n",
      "_________________________________________________________________\n",
      "encoder4 (MaxPooling2D)      (None, 32, 32, 8)         0         \n",
      "_________________________________________________________________\n",
      "conv2d_19 (Conv2D)           (None, 32, 32, 8)         584       \n",
      "_________________________________________________________________\n",
      "up_sampling2d_10 (UpSampling (None, 64, 64, 8)         0         \n",
      "_________________________________________________________________\n",
      "conv2d_20 (Conv2D)           (None, 64, 64, 8)         584       \n",
      "_________________________________________________________________\n",
      "up_sampling2d_11 (UpSampling (None, 128, 128, 8)       0         \n",
      "_________________________________________________________________\n",
      "conv2d_21 (Conv2D)           (None, 128, 128, 16)      1168      \n",
      "_________________________________________________________________\n",
      "up_sampling2d_12 (UpSampling (None, 256, 256, 16)      0         \n",
      "_________________________________________________________________\n",
      "conv2d_22 (Conv2D)           (None, 256, 256, 1)       145       \n",
      "=================================================================\n",
      "Total params: 4,385\n",
      "Trainable params: 4,385\n",
      "Non-trainable params: 0\n",
      "_________________________________________________________________\n"
     ]
    }
   ],
   "source": [
    "def encoder4(input_shape):\n",
    "    x = Conv2D(16,(3,3), activation='relu', padding='same',name='17')(input_shape)\n",
    "    x = MaxPooling2D((2,2), padding='same')(x)\n",
    "    x = Conv2D(8,(3,3), activation='relu', padding='same',name='18')(x)\n",
    "    x = MaxPooling2D((2,2), padding='same')(x)\n",
    "    x = Conv2D(8,(3,3), activation='relu', padding='same',name='19')(x)\n",
    "    encoded4 = MaxPooling2D((2,2), padding='same', name='encoder4')(x)\n",
    "    return encoded4\n",
    "def decoder4(input_shape):\n",
    "    encoded=encoder4(input_shape)\n",
    "    x = Conv2D(8, (3, 3), activation='relu', padding='same')(encoded)\n",
    "    x = UpSampling2D((2, 2))(x)\n",
    "    x = Conv2D(8, (3, 3), activation='relu', padding='same')(x)\n",
    "    x = UpSampling2D((2, 2))(x)\n",
    "    x = Conv2D(16, (3, 3), activation='relu',padding='same')(x)\n",
    "    x = UpSampling2D((2, 2))(x)\n",
    "    decoded4 = Conv2D(1, (3, 3), activation='sigmoid', padding='same')(x)\n",
    "    return decoded4\n",
    "    #model.add(BatchNormalization(axis=-1))\n",
    "    #decode=model.add(Activation('relu'))\n",
    "print ('Starting auto4')\n",
    "input_shape = Input(shape = [256,256,1])\n",
    "model4 = Model(input_shape,decoder4(input_shape))\n",
    "model4.compile(loss='binary_crossentropy', optimizer='adam', metrics=['accuracy'])\n",
    "print ('Starting autoencoder')\n",
    "model4.summary()"
   ]
  },
  {
   "cell_type": "code",
   "execution_count": 41,
   "metadata": {},
   "outputs": [],
   "source": [
    "data_path5 = '/home/apiiit-rkv/Desktop/tot/tottrain4/squirrel/'"
   ]
  },
  {
   "cell_type": "code",
   "execution_count": 42,
   "metadata": {},
   "outputs": [
    {
     "name": "stdout",
     "output_type": "stream",
     "text": [
      "(30720, 256)\n"
     ]
    }
   ],
   "source": [
    "imgs5 = np.empty((256, 256), int)\n",
    "filenames = sorted(os.listdir(data_path5))\n",
    "p5=0\n",
    "for img_name in filenames:\n",
    "    img = plt.imread(data_path5 + img_name)\n",
    "    img  = np.resize(img, (256, 256))\n",
    "    if p5==0:\n",
    "      imgs5=(img)\n",
    "      p5=1\n",
    "    else:\n",
    "      imgs5 = np.append(imgs5, img, axis=0)\n",
    "print(imgs5.shape)"
   ]
  },
  {
   "cell_type": "code",
   "execution_count": 43,
   "metadata": {},
   "outputs": [],
   "source": [
    "imgs5 = np.reshape(imgs5, [ 120, 256, 256])"
   ]
  },
  {
   "cell_type": "code",
   "execution_count": 44,
   "metadata": {},
   "outputs": [],
   "source": [
    "train_images5, test_images5 = train_test_split(imgs5,test_size=0.20, random_state=42)"
   ]
  },
  {
   "cell_type": "code",
   "execution_count": 45,
   "metadata": {},
   "outputs": [
    {
     "name": "stdout",
     "output_type": "stream",
     "text": [
      "(96, 256, 256)\n",
      "(24, 256, 256)\n"
     ]
    }
   ],
   "source": [
    "print(train_images5.shape)\n",
    "print(test_images5.shape)"
   ]
  },
  {
   "cell_type": "code",
   "execution_count": 47,
   "metadata": {},
   "outputs": [],
   "source": [
    "nRows5,nCols5 = train_images5.shape[1:]\n",
    "nDims5 = nRows5"
   ]
  },
  {
   "cell_type": "code",
   "execution_count": 48,
   "metadata": {},
   "outputs": [],
   "source": [
    "train_data5 = train_images5.reshape(train_images5.shape[0], nRows1, nCols1, 1)\n",
    "test_data5 = test_images5.reshape(test_images5.shape[0], nRows1, nCols1, 1)"
   ]
  },
  {
   "cell_type": "code",
   "execution_count": 49,
   "metadata": {},
   "outputs": [
    {
     "name": "stdout",
     "output_type": "stream",
     "text": [
      "(256, 256, 1)\n"
     ]
    }
   ],
   "source": [
    "input_shape5 = (nRows5, nCols5, 1)\n",
    "train_data5 = train_data5.astype('float32')\n",
    "test_data5 = test_data5.astype('float32')\n",
    "\n",
    "print(input_shape3)\n",
    "train_data3 /= 255\n",
    "test_data3 /= 255"
   ]
  },
  {
   "cell_type": "code",
   "execution_count": 50,
   "metadata": {},
   "outputs": [
    {
     "name": "stdout",
     "output_type": "stream",
     "text": [
      "Starting auto5\n",
      "Starting autoencoder\n",
      "Model: \"model_5\"\n",
      "_________________________________________________________________\n",
      "Layer (type)                 Output Shape              Param #   \n",
      "=================================================================\n",
      "input_5 (InputLayer)         (None, 256, 256, 1)       0         \n",
      "_________________________________________________________________\n",
      "71 (Conv2D)                  (None, 256, 256, 16)      160       \n",
      "_________________________________________________________________\n",
      "max_pooling2d_9 (MaxPooling2 (None, 128, 128, 16)      0         \n",
      "_________________________________________________________________\n",
      "81 (Conv2D)                  (None, 128, 128, 8)       1160      \n",
      "_________________________________________________________________\n",
      "max_pooling2d_10 (MaxPooling (None, 64, 64, 8)         0         \n",
      "_________________________________________________________________\n",
      "91 (Conv2D)                  (None, 64, 64, 8)         584       \n",
      "_________________________________________________________________\n",
      "encoder5 (MaxPooling2D)      (None, 32, 32, 8)         0         \n",
      "_________________________________________________________________\n",
      "conv2d_23 (Conv2D)           (None, 32, 32, 8)         584       \n",
      "_________________________________________________________________\n",
      "up_sampling2d_13 (UpSampling (None, 64, 64, 8)         0         \n",
      "_________________________________________________________________\n",
      "conv2d_24 (Conv2D)           (None, 64, 64, 8)         584       \n",
      "_________________________________________________________________\n",
      "up_sampling2d_14 (UpSampling (None, 128, 128, 8)       0         \n",
      "_________________________________________________________________\n",
      "conv2d_25 (Conv2D)           (None, 128, 128, 16)      1168      \n",
      "_________________________________________________________________\n",
      "up_sampling2d_15 (UpSampling (None, 256, 256, 16)      0         \n",
      "_________________________________________________________________\n",
      "conv2d_26 (Conv2D)           (None, 256, 256, 1)       145       \n",
      "=================================================================\n",
      "Total params: 4,385\n",
      "Trainable params: 4,385\n",
      "Non-trainable params: 0\n",
      "_________________________________________________________________\n"
     ]
    }
   ],
   "source": [
    "def encoder5(input_shape):\n",
    "    x = Conv2D(16,(3,3), activation='relu', padding='same',name='71')(input_shape)\n",
    "    x = MaxPooling2D((2,2), padding='same')(x)\n",
    "    x = Conv2D(8,(3,3), activation='relu', padding='same',name='81')(x)\n",
    "    x = MaxPooling2D((2,2), padding='same')(x)\n",
    "    x = Conv2D(8,(3,3), activation='relu', padding='same',name='91')(x)\n",
    "    encoded5 = MaxPooling2D((2,2), padding='same', name='encoder5')(x)\n",
    "    return encoded5\n",
    "def decoder5(input_shape):\n",
    "    encoded=encoder5(input_shape)\n",
    "    x = Conv2D(8, (3, 3), activation='relu', padding='same')(encoded)\n",
    "    x = UpSampling2D((2, 2))(x)\n",
    "    x = Conv2D(8, (3, 3), activation='relu', padding='same')(x)\n",
    "    x = UpSampling2D((2, 2))(x)\n",
    "    x = Conv2D(16, (3, 3), activation='relu',padding='same')(x)\n",
    "    x = UpSampling2D((2, 2))(x)\n",
    "    decoded5 = Conv2D(1, (3, 3), activation='sigmoid', padding='same')(x)\n",
    "    return decoded5\n",
    "    #model.add(BatchNormalization(axis=-1))\n",
    "    #decode=model.add(Activation('relu'))\n",
    "print ('Starting auto5')\n",
    "input_shape = Input(shape = [256,256,1])\n",
    "model5 = Model(input_shape,decoder5(input_shape))\n",
    "model5.compile(loss='binary_crossentropy', optimizer='adam', metrics=['accuracy'])\n",
    "print ('Starting autoencoder')\n",
    "model5.summary()"
   ]
  },
  {
   "cell_type": "code",
   "execution_count": 52,
   "metadata": {},
   "outputs": [],
   "source": [
    "a=Flatten()(encoder1(input_shape))\n",
    "b=Flatten()(encoder2(input_shape))\n",
    "c=Flatten()(encoder3(input_shape))\n",
    "d=Flatten()(encoder4(input_shape))\n",
    "e=Flatten()(encoder5(input_shape))"
   ]
  },
  {
   "cell_type": "code",
   "execution_count": 72,
   "metadata": {},
   "outputs": [
    {
     "data": {
      "text/plain": [
       "<tf.Tensor 'flatten_5/Reshape:0' shape=(None, None) dtype=float32>"
      ]
     },
     "execution_count": 72,
     "metadata": {},
     "output_type": "execute_result"
    }
   ],
   "source": [
    "a"
   ]
  },
  {
   "cell_type": "code",
   "execution_count": 53,
   "metadata": {},
   "outputs": [],
   "source": [
    "merged_model1 = keras.layers.concatenate([a,b,c,d,e],axis=0)\n",
    "def final(merged_model1):\n",
    "    #merged_model=Dense(512, activation='relu')(merged_model1)\n",
    "    merged_model=Dense(256, activation='relu')(merged_model1)\n",
    "    merged_model=Dense(128, activation='relu')(merged_model)\n",
    "    merged_model=Dropout(0.2)(merged_model)\n",
    "    merged_model=Dense(5, activation='softmax')(merged_model)\n",
    "    return merged_model"
   ]
  },
  {
   "cell_type": "code",
   "execution_count": 54,
   "metadata": {},
   "outputs": [],
   "source": [
    "z=final(merged_model1)\n",
    "final_model=Model(input_shape,final(merged_model1))"
   ]
  },
  {
   "cell_type": "code",
   "execution_count": 55,
   "metadata": {},
   "outputs": [
    {
     "name": "stdout",
     "output_type": "stream",
     "text": [
      "Model: \"model_6\"\n",
      "__________________________________________________________________________________________________\n",
      "Layer (type)                    Output Shape         Param #     Connected to                     \n",
      "==================================================================================================\n",
      "input_5 (InputLayer)            (None, 256, 256, 1)  0                                            \n",
      "__________________________________________________________________________________________________\n",
      "conv2d_33 (Conv2D)              (None, 256, 256, 16) 160         input_5[0][0]                    \n",
      "__________________________________________________________________________________________________\n",
      "conv2d_36 (Conv2D)              (None, 256, 256, 16) 160         input_5[0][0]                    \n",
      "__________________________________________________________________________________________________\n",
      "7 (Conv2D)                      (None, 256, 256, 16) 160         input_5[0][0]                    \n",
      "__________________________________________________________________________________________________\n",
      "17 (Conv2D)                     (None, 256, 256, 16) 160         input_5[0][0]                    \n",
      "__________________________________________________________________________________________________\n",
      "71 (Conv2D)                     (None, 256, 256, 16) 160         input_5[0][0]                    \n",
      "__________________________________________________________________________________________________\n",
      "max_pooling2d_19 (MaxPooling2D) (None, 128, 128, 16) 0           conv2d_33[0][0]                  \n",
      "__________________________________________________________________________________________________\n",
      "max_pooling2d_21 (MaxPooling2D) (None, 128, 128, 16) 0           conv2d_36[0][0]                  \n",
      "__________________________________________________________________________________________________\n",
      "max_pooling2d_23 (MaxPooling2D) (None, 128, 128, 16) 0           7[0][0]                          \n",
      "__________________________________________________________________________________________________\n",
      "max_pooling2d_25 (MaxPooling2D) (None, 128, 128, 16) 0           17[0][0]                         \n",
      "__________________________________________________________________________________________________\n",
      "max_pooling2d_27 (MaxPooling2D) (None, 128, 128, 16) 0           71[0][0]                         \n",
      "__________________________________________________________________________________________________\n",
      "conv2d_34 (Conv2D)              (None, 128, 128, 8)  1160        max_pooling2d_19[0][0]           \n",
      "__________________________________________________________________________________________________\n",
      "conv2d_37 (Conv2D)              (None, 128, 128, 8)  1160        max_pooling2d_21[0][0]           \n",
      "__________________________________________________________________________________________________\n",
      "8 (Conv2D)                      (None, 128, 128, 8)  1160        max_pooling2d_23[0][0]           \n",
      "__________________________________________________________________________________________________\n",
      "18 (Conv2D)                     (None, 128, 128, 8)  1160        max_pooling2d_25[0][0]           \n",
      "__________________________________________________________________________________________________\n",
      "81 (Conv2D)                     (None, 128, 128, 8)  1160        max_pooling2d_27[0][0]           \n",
      "__________________________________________________________________________________________________\n",
      "max_pooling2d_20 (MaxPooling2D) (None, 64, 64, 8)    0           conv2d_34[0][0]                  \n",
      "__________________________________________________________________________________________________\n",
      "max_pooling2d_22 (MaxPooling2D) (None, 64, 64, 8)    0           conv2d_37[0][0]                  \n",
      "__________________________________________________________________________________________________\n",
      "max_pooling2d_24 (MaxPooling2D) (None, 64, 64, 8)    0           8[0][0]                          \n",
      "__________________________________________________________________________________________________\n",
      "max_pooling2d_26 (MaxPooling2D) (None, 64, 64, 8)    0           18[0][0]                         \n",
      "__________________________________________________________________________________________________\n",
      "max_pooling2d_28 (MaxPooling2D) (None, 64, 64, 8)    0           81[0][0]                         \n",
      "__________________________________________________________________________________________________\n",
      "conv2d_35 (Conv2D)              (None, 64, 64, 8)    584         max_pooling2d_20[0][0]           \n",
      "__________________________________________________________________________________________________\n",
      "conv2d_38 (Conv2D)              (None, 64, 64, 8)    584         max_pooling2d_22[0][0]           \n",
      "__________________________________________________________________________________________________\n",
      "9 (Conv2D)                      (None, 64, 64, 8)    584         max_pooling2d_24[0][0]           \n",
      "__________________________________________________________________________________________________\n",
      "19 (Conv2D)                     (None, 64, 64, 8)    584         max_pooling2d_26[0][0]           \n",
      "__________________________________________________________________________________________________\n",
      "91 (Conv2D)                     (None, 64, 64, 8)    584         max_pooling2d_28[0][0]           \n",
      "__________________________________________________________________________________________________\n",
      "encoder (MaxPooling2D)          (None, 32, 32, 8)    0           conv2d_35[0][0]                  \n",
      "__________________________________________________________________________________________________\n",
      "encoder0 (MaxPooling2D)         (None, 32, 32, 8)    0           conv2d_38[0][0]                  \n",
      "__________________________________________________________________________________________________\n",
      "encoder3 (MaxPooling2D)         (None, 32, 32, 8)    0           9[0][0]                          \n",
      "__________________________________________________________________________________________________\n",
      "encoder4 (MaxPooling2D)         (None, 32, 32, 8)    0           19[0][0]                         \n",
      "__________________________________________________________________________________________________\n",
      "encoder5 (MaxPooling2D)         (None, 32, 32, 8)    0           91[0][0]                         \n",
      "__________________________________________________________________________________________________\n",
      "flatten_5 (Flatten)             (None, 8192)         0           encoder[0][0]                    \n",
      "__________________________________________________________________________________________________\n",
      "flatten_6 (Flatten)             (None, 8192)         0           encoder0[0][0]                   \n",
      "__________________________________________________________________________________________________\n",
      "flatten_7 (Flatten)             (None, 8192)         0           encoder3[0][0]                   \n",
      "__________________________________________________________________________________________________\n",
      "flatten_8 (Flatten)             (None, 8192)         0           encoder4[0][0]                   \n",
      "__________________________________________________________________________________________________\n",
      "flatten_9 (Flatten)             (None, 8192)         0           encoder5[0][0]                   \n",
      "__________________________________________________________________________________________________\n",
      "concatenate_1 (Concatenate)     (None, 8192)         0           flatten_5[0][0]                  \n",
      "                                                                 flatten_6[0][0]                  \n",
      "                                                                 flatten_7[0][0]                  \n",
      "                                                                 flatten_8[0][0]                  \n",
      "                                                                 flatten_9[0][0]                  \n",
      "__________________________________________________________________________________________________\n",
      "dense_4 (Dense)                 (None, 256)          2097408     concatenate_1[0][0]              \n",
      "__________________________________________________________________________________________________\n",
      "dense_5 (Dense)                 (None, 128)          32896       dense_4[0][0]                    \n",
      "__________________________________________________________________________________________________\n",
      "dropout_2 (Dropout)             (None, 128)          0           dense_5[0][0]                    \n",
      "__________________________________________________________________________________________________\n",
      "dense_6 (Dense)                 (None, 5)            645         dropout_2[0][0]                  \n",
      "==================================================================================================\n",
      "Total params: 2,140,469\n",
      "Trainable params: 2,140,469\n",
      "Non-trainable params: 0\n",
      "__________________________________________________________________________________________________\n"
     ]
    }
   ],
   "source": [
    "final_model.summary()"
   ]
  },
  {
   "cell_type": "code",
   "execution_count": 56,
   "metadata": {},
   "outputs": [],
   "source": [
    "data_path6 = '/home/apiiit-rkv/Desktop/TRAIN/'"
   ]
  },
  {
   "cell_type": "code",
   "execution_count": 57,
   "metadata": {},
   "outputs": [
    {
     "name": "stdout",
     "output_type": "stream",
     "text": [
      "['OIP', 'OIP', 'OIP', 'OIP', 'OIP', 'OIP', 'OIP', 'OIP', 'OIP', 'OIP', 'OIP', 'OIP', 'OIP', 'OIP', 'OIP', 'OIP', 'OIP', 'OIP', 'OIP', 'OIP', 'OIP', 'OIP', 'OIP', 'OIP', 'OIP', 'OIP', 'OIP', 'OIP', 'OIP', 'OIP', 'OIP', 'OIP', 'OIP', 'OIP', 'OIP', 'OIP', 'OIP', 'OIP', 'OIP', 'OIP', 'OIP', 'OIP', 'OIP', 'OIP', 'OIP', 'OIP', 'OIP', 'OIP', 'OIP', 'OIP', 'OIP', 'OIP', 'OIP', 'OIP', 'OIP', 'OIP', 'OIP', 'OIP', 'OIP', 'OIP', 'OIP', 'OIP', 'OIP', 'OIP', 'OIP', 'OIP', 'OIP', 'OIP', 'OIP', 'OIP', 'OIP', 'OIP', 'OIP', 'OIP', 'OIP', 'OIP', 'OIP', 'OIP', 'OIP', 'OIP', 'OIP', 'OIP', 'OIP', 'OIP', 'OIP', 'OIP', 'OIP', 'OIP', 'OIP', 'OIP', 'OIP', 'OIP', 'OIP', 'OIP', 'OIP', 'OIP', 'OIP', 'OIP', 'OIP', 'OIP', 'OIP', 'OIP', 'OIP', 'OIP', 'OIP', 'OIP', 'OIP', 'OIP', 'OIP', 'OIP', 'OIP', 'OIP', 'OIP', 'OIP', 'OIP', 'OIP', 'OIP', 'OIP', 'OIP', 'OIP', 'cat', 'cat', 'cat', 'cat', 'cat', 'cat', 'cat', 'cat', 'cat', 'cat', 'cat', 'cat', 'cat', 'cat', 'cat', 'cat', 'cat', 'cat', 'cat', 'cat', 'cat', 'cat', 'cat', 'cat', 'cat', 'cat', 'cat', 'cat', 'cat', 'cat', 'cat', 'cat', 'cat', 'cat', 'cat', 'cat', 'cat', 'cat', 'cat', 'cat', 'cat', 'cat', 'cat', 'cat', 'cat', 'cat', 'cat', 'cat', 'cat', 'cat', 'cat', 'cat', 'cat', 'cat', 'cat', 'cat', 'cat', 'cat', 'cat', 'cat', 'cat', 'cat', 'cat', 'cat', 'cat', 'cat', 'cat', 'cat', 'cat', 'cat', 'cat', 'cat', 'cat', 'cat', 'cat', 'cat', 'cat', 'cat', 'cat', 'cat', 'cat', 'cat', 'cat', 'cat', 'cat', 'cat', 'cat', 'cat', 'cat', 'cat', 'cat', 'cat', 'cat', 'cat', 'cat', 'cat', 'cat', 'cat', 'cat', 'cat', 'cat', 'cat', 'cat', 'cat', 'cat', 'cat', 'cat', 'cat', 'cat', 'cat', 'cat', 'cat', 'cat', 'cat', 'cat', 'cat', 'cat', 'cat', 'cat', 'cat', 'dog', 'dog', 'dog', 'dog', 'dog', 'dog', 'dog', 'dog', 'dog', 'dog', 'dog', 'dog', 'dog', 'dog', 'dog', 'dog', 'dog', 'dog', 'dog', 'dog', 'dog', 'dog', 'dog', 'dog', 'dog', 'dog', 'dog', 'dog', 'dog', 'dog', 'dog', 'dog', 'dog', 'dog', 'dog', 'dog', 'dog', 'dog', 'dog', 'dog', 'dog', 'dog', 'dog', 'dog', 'dog', 'dog', 'dog', 'dog', 'dog', 'dog', 'dog', 'dog', 'dog', 'dog', 'dog', 'dog', 'dog', 'dog', 'dog', 'dog', 'dog', 'dog', 'dog', 'dog', 'dog', 'dog', 'dog', 'dog', 'dog', 'dog', 'dog', 'dog', 'dog', 'dog', 'dog', 'dog', 'dog', 'dog', 'dog', 'dog', 'dog', 'dog', 'dog', 'dog', 'dog', 'dog', 'dog', 'dog', 'dog', 'dog', 'dog', 'dog', 'dog', 'dog', 'dog', 'dog', 'dog', 'dog', 'dog', 'dog', 'dog', 'dog', 'dog', 'dog', 'dog', 'dog', 'dog', 'dog', 'dog', 'dog', 'dog', 'dog', 'dog', 'dog', 'dog', 'dog', 'dog', 'dog', 'dog', 'dog', 'e03', 'e13', 'e13', 'e13', 'e13', 'e13', 'e13', 'e13', 'e83', 'e83', 'e83', 'e83', 'e83', 'e83', 'e83', 'e83', 'e83', 'e83', 'e83', 'e83', 'e83', 'e83', 'e83', 'e83', 'e83', 'e83', 'e83', 'e83', 'e83', 'e83', 'e83', 'e83', 'e83', 'e83', 'e83', 'e83', 'e83', 'e83', 'e83', 'e83', 'e83', 'e83', 'e83', 'e83', 'e83', 'e83', 'e83', 'e83', 'e83', 'e83', 'e83', 'e83', 'e83', 'e83', 'e83', 'e83', 'e83', 'e83', 'e83', 'e83', 'e83', 'e83', 'e83', 'e83', 'e83', 'e83', 'e83', 'e83', 'e83', 'e83', 'e83', 'e83', 'e83', 'e83', 'e83', 'e83', 'e83', 'e83', 'e83', 'e83', 'e83', 'e83', 'e83', 'ea3', 'ea3', 'ea3', 'ea3', 'ea3', 'ea3', 'ea3', 'ea3', 'ea3', 'ea3', 'ea3', 'ea3', 'ea3', 'ea3', 'ea3', 'ea3', 'ea3', 'ea3', 'ea3', 'ea3', 'ea3', 'ea3', 'ea3', 'ea3', 'ea3', 'ea3', 'ea3', 'ea3', 'ea3', 'ea3', 'ea3', 'ea3', 'ea3', 'ea3', 'ea3', 'ea3', 'ea3', 'hor', 'hor', 'hor', 'hor', 'hor', 'hor', 'hor', 'hor', 'hor', 'hor', 'hor', 'hor', 'hor', 'hor', 'hor', 'hor', 'hor', 'hor', 'hor', 'hor', 'hor', 'hor', 'hor', 'hor', 'hor', 'hor', 'hor', 'hor', 'hor', 'hor', 'hor', 'hor', 'hor', 'hor', 'hor', 'hor', 'hor', 'hor', 'hor', 'hor', 'hor', 'hor', 'hor', 'hor', 'hor', 'hor', 'hor', 'hor', 'hor', 'hor', 'hor', 'hor', 'hor', 'hor', 'hor', 'hor', 'hor', 'hor', 'hor', 'hor', 'hor', 'hor', 'hor', 'hor', 'hor', 'hor', 'hor', 'hor', 'hor', 'hor', 'hor', 'hor', 'hor', 'hor', 'hor', 'hor', 'hor', 'hor', 'hor', 'hor', 'hor', 'hor', 'hor', 'hor', 'hor', 'hor', 'hor', 'hor', 'hor', 'hor', 'hor', 'hor', 'hor', 'hor', 'hor', 'hor', 'hor', 'hor', 'hor', 'hor', 'hor', 'hor', 'hor', 'hor', 'hor', 'hor', 'hor', 'hor', 'hor', 'hor', 'hor', 'hor', 'hor', 'hor', 'hor', 'hor', 'hor', 'hor', 'hor', 'hor']\n",
      "(153600, 256)\n"
     ]
    },
    {
     "data": {
      "text/plain": [
       "(153600, 256)"
      ]
     },
     "execution_count": 57,
     "metadata": {},
     "output_type": "execute_result"
    }
   ],
   "source": [
    "import numpy as np\n",
    "import os\n",
    "import matplotlib.pyplot as plt\n",
    "imgs6 = np.empty((256, 256), int)\n",
    "filenames = sorted(os.listdir(data_path6))\n",
    "p6=0\n",
    "d6=[]\n",
    "for img_name in filenames:\n",
    "    img = plt.imread(data_path6 + img_name)\n",
    "    img  = np.resize(img, (256, 256))\n",
    "    if p6==0:\n",
    "      imgs6=(img)\n",
    "      p6=1\n",
    "    else:\n",
    "      imgs6 = np.append(imgs6, img, axis=0)\n",
    "    res = img_name[:3]\n",
    "    d6.append(res)\n",
    "print(d6)\n",
    "    \n",
    "print(imgs6.shape)\n",
    "        \n",
    "img_data = np.array(imgs6)\n",
    "img_data = img_data.astype('float32')\n",
    "img_data = img_data/255\n",
    "img_data.shape"
   ]
  },
  {
   "cell_type": "code",
   "execution_count": 58,
   "metadata": {},
   "outputs": [
    {
     "name": "stdout",
     "output_type": "stream",
     "text": [
      "(480, 256, 256)\n",
      "(120, 256, 256)\n"
     ]
    }
   ],
   "source": [
    "imgs6 = np.reshape(imgs6, [ 600, 256, 256])\n",
    "train_images, test_images = train_test_split(imgs6,test_size=0.20, random_state=42)\n",
    "nRows,nCols = train_images.shape[1:]\n",
    "nDims = nRows\n",
    "train_data = train_images.reshape(train_images.shape[0], nRows, nCols, 1)\n",
    "test_data = test_images.reshape(test_images.shape[0], nRows, nCols, 1)\n",
    "input_shape = (nRows, nCols, 1)\n",
    "train_data = train_data.astype('float32')\n",
    "test_data = test_data.astype('float32')\n",
    "train_data /= 255\n",
    "test_data /= 255\n",
    "print(train_images.shape)\n",
    "print(test_images.shape)"
   ]
  },
  {
   "cell_type": "code",
   "execution_count": 59,
   "metadata": {},
   "outputs": [
    {
     "name": "stdout",
     "output_type": "stream",
     "text": [
      "Training data shape :  (480, 256, 256) 480\n",
      "Testing data shape :  (120, 256, 256) 120\n",
      "Total number of outputs :  9\n",
      "Output classes :  ['OIP' 'cat' 'dog' 'e03' 'e13' 'e83' 'ea3' 'hor' '0']\n"
     ]
    }
   ],
   "source": [
    "import numpy as np\n",
    "imgs = np.reshape(imgs6, [ 600, 256, 256])\n",
    "train_images, test_images, train_labels, test_labels = train_test_split(imgs6, d6, test_size=0.20, random_state=42)\n",
    "print('Training data shape : ', train_images.shape, len(train_labels))\n",
    "print('Testing data shape : ', test_images.shape, len(test_labels))\n",
    "classes = np.unique(train_labels)\n",
    "classes=np.append(classes,0)\n",
    "nClasses = len(classes)\n",
    "\n",
    "print('Total number of outputs : ', nClasses)\n",
    "print('Output classes : ', classes)"
   ]
  },
  {
   "cell_type": "code",
   "execution_count": 60,
   "metadata": {},
   "outputs": [
    {
     "name": "stdout",
     "output_type": "stream",
     "text": [
      "(256, 256)\n"
     ]
    },
    {
     "data": {
      "image/png": "[encoded data removed]",
      "text/plain": [
       "<Figure size 288x144 with 2 Axes>"
      ]
     },
     "metadata": {
      "needs_background": "light"
     },
     "output_type": "display_data"
    }
   ],
   "source": [
    "plt.figure(figsize=[4,2])\n",
    "plt.subplot(121)\n",
    "plt.imshow(train_images[0,:,:], cmap='gray')\n",
    "plt.title(\"Ground Truth : {}\".format(train_labels[0]))\n",
    "plt.subplot(122)\n",
    "plt.imshow(test_images[0,:,:], cmap='gray')\n",
    "plt.title(\"Ground Truth : {}\".format(test_labels[0]))\n",
    "print(train_images.shape[1:])"
   ]
  },
  {
   "cell_type": "code",
   "execution_count": 61,
   "metadata": {},
   "outputs": [
    {
     "data": {
      "text/plain": [
       "['cat',\n",
       " 'OIP',\n",
       " 'e83',\n",
       " 'hor',\n",
       " 'cat',\n",
       " 'cat',\n",
       " 'hor',\n",
       " 'dog',\n",
       " 'hor',\n",
       " 'ea3',\n",
       " 'OIP',\n",
       " 'hor',\n",
       " 'cat',\n",
       " 'cat',\n",
       " 'ea3',\n",
       " 'cat',\n",
       " 'OIP',\n",
       " 'OIP',\n",
       " 'dog',\n",
       " 'OIP',\n",
       " 'OIP',\n",
       " 'cat',\n",
       " 'cat',\n",
       " 'OIP',\n",
       " 'hor',\n",
       " 'OIP',\n",
       " 'e83',\n",
       " 'e83',\n",
       " 'OIP',\n",
       " 'OIP',\n",
       " 'hor',\n",
       " 'hor',\n",
       " 'dog',\n",
       " 'dog',\n",
       " 'hor',\n",
       " 'dog',\n",
       " 'OIP',\n",
       " 'e83',\n",
       " 'OIP',\n",
       " 'OIP',\n",
       " 'e13',\n",
       " 'cat',\n",
       " 'OIP',\n",
       " 'e83',\n",
       " 'dog',\n",
       " 'cat',\n",
       " 'dog',\n",
       " 'dog',\n",
       " 'hor',\n",
       " 'e03',\n",
       " 'dog',\n",
       " 'dog',\n",
       " 'hor',\n",
       " 'e83',\n",
       " 'cat',\n",
       " 'OIP',\n",
       " 'hor',\n",
       " 'OIP',\n",
       " 'OIP',\n",
       " 'dog',\n",
       " 'OIP',\n",
       " 'dog',\n",
       " 'hor',\n",
       " 'ea3',\n",
       " 'e83',\n",
       " 'e83',\n",
       " 'e83',\n",
       " 'ea3',\n",
       " 'e83',\n",
       " 'dog',\n",
       " 'hor',\n",
       " 'hor',\n",
       " 'OIP',\n",
       " 'cat',\n",
       " 'e83',\n",
       " 'dog',\n",
       " 'ea3',\n",
       " 'dog',\n",
       " 'hor',\n",
       " 'cat',\n",
       " 'cat',\n",
       " 'e83',\n",
       " 'ea3',\n",
       " 'cat',\n",
       " 'cat',\n",
       " 'dog',\n",
       " 'dog',\n",
       " 'dog',\n",
       " 'dog',\n",
       " 'ea3',\n",
       " 'hor',\n",
       " 'hor',\n",
       " 'hor',\n",
       " 'OIP',\n",
       " 'cat',\n",
       " 'cat',\n",
       " 'dog',\n",
       " 'OIP',\n",
       " 'hor',\n",
       " 'OIP',\n",
       " 'cat',\n",
       " 'ea3',\n",
       " 'OIP',\n",
       " 'dog',\n",
       " 'dog',\n",
       " 'ea3',\n",
       " 'dog',\n",
       " 'dog',\n",
       " 'OIP',\n",
       " 'dog',\n",
       " 'OIP',\n",
       " 'e83',\n",
       " 'cat',\n",
       " 'hor',\n",
       " 'hor',\n",
       " 'OIP',\n",
       " 'e83',\n",
       " 'dog',\n",
       " 'e83',\n",
       " 'dog',\n",
       " 'hor',\n",
       " 'e83',\n",
       " 'e83',\n",
       " 'cat',\n",
       " 'cat',\n",
       " 'dog',\n",
       " 'hor',\n",
       " 'ea3',\n",
       " 'cat',\n",
       " 'OIP',\n",
       " 'OIP',\n",
       " 'OIP',\n",
       " 'cat',\n",
       " 'hor',\n",
       " 'OIP',\n",
       " 'OIP',\n",
       " 'dog',\n",
       " 'cat',\n",
       " 'OIP',\n",
       " 'dog',\n",
       " 'dog',\n",
       " 'dog',\n",
       " 'hor',\n",
       " 'cat',\n",
       " 'dog',\n",
       " 'hor',\n",
       " 'dog',\n",
       " 'OIP',\n",
       " 'cat',\n",
       " 'dog',\n",
       " 'dog',\n",
       " 'dog',\n",
       " 'OIP',\n",
       " 'OIP',\n",
       " 'e83',\n",
       " 'hor',\n",
       " 'ea3',\n",
       " 'OIP',\n",
       " 'OIP',\n",
       " 'hor',\n",
       " 'hor',\n",
       " 'OIP',\n",
       " 'hor',\n",
       " 'e83',\n",
       " 'e13',\n",
       " 'e83',\n",
       " 'dog',\n",
       " 'cat',\n",
       " 'OIP',\n",
       " 'e83',\n",
       " 'dog',\n",
       " 'OIP',\n",
       " 'cat',\n",
       " 'OIP',\n",
       " 'cat',\n",
       " 'cat',\n",
       " 'hor',\n",
       " 'cat',\n",
       " 'hor',\n",
       " 'dog',\n",
       " 'cat',\n",
       " 'hor',\n",
       " 'hor',\n",
       " 'hor',\n",
       " 'OIP',\n",
       " 'dog',\n",
       " 'cat',\n",
       " 'e13',\n",
       " 'cat',\n",
       " 'cat',\n",
       " 'cat',\n",
       " 'hor',\n",
       " 'dog',\n",
       " 'hor',\n",
       " 'dog',\n",
       " 'OIP',\n",
       " 'e83',\n",
       " 'OIP',\n",
       " 'e83',\n",
       " 'hor',\n",
       " 'OIP',\n",
       " 'e83',\n",
       " 'e83',\n",
       " 'hor',\n",
       " 'cat',\n",
       " 'dog',\n",
       " 'dog',\n",
       " 'dog',\n",
       " 'e83',\n",
       " 'OIP',\n",
       " 'e83',\n",
       " 'OIP',\n",
       " 'cat',\n",
       " 'dog',\n",
       " 'dog',\n",
       " 'hor',\n",
       " 'OIP',\n",
       " 'OIP',\n",
       " 'e13',\n",
       " 'dog',\n",
       " 'dog',\n",
       " 'hor',\n",
       " 'dog',\n",
       " 'cat',\n",
       " 'dog',\n",
       " 'hor',\n",
       " 'hor',\n",
       " 'OIP',\n",
       " 'e83',\n",
       " 'dog',\n",
       " 'cat',\n",
       " 'dog',\n",
       " 'cat',\n",
       " 'ea3',\n",
       " 'hor',\n",
       " 'cat',\n",
       " 'e83',\n",
       " 'dog',\n",
       " 'dog',\n",
       " 'hor',\n",
       " 'cat',\n",
       " 'hor',\n",
       " 'OIP',\n",
       " 'cat',\n",
       " 'cat',\n",
       " 'e83',\n",
       " 'OIP',\n",
       " 'dog',\n",
       " 'dog',\n",
       " 'dog',\n",
       " 'ea3',\n",
       " 'cat',\n",
       " 'cat',\n",
       " 'cat',\n",
       " 'dog',\n",
       " 'dog',\n",
       " 'hor',\n",
       " 'ea3',\n",
       " 'ea3',\n",
       " 'hor',\n",
       " 'hor',\n",
       " 'e83',\n",
       " 'cat',\n",
       " 'hor',\n",
       " 'cat',\n",
       " 'dog',\n",
       " 'OIP',\n",
       " 'cat',\n",
       " 'cat',\n",
       " 'hor',\n",
       " 'e83',\n",
       " 'ea3',\n",
       " 'hor',\n",
       " 'e83',\n",
       " 'hor',\n",
       " 'e83',\n",
       " 'e83',\n",
       " 'hor',\n",
       " 'dog',\n",
       " 'hor',\n",
       " 'hor',\n",
       " 'e83',\n",
       " 'OIP',\n",
       " 'cat',\n",
       " 'e83',\n",
       " 'ea3',\n",
       " 'ea3',\n",
       " 'e83',\n",
       " 'dog',\n",
       " 'cat',\n",
       " 'hor',\n",
       " 'cat',\n",
       " 'dog',\n",
       " 'hor',\n",
       " 'cat',\n",
       " 'dog',\n",
       " 'cat',\n",
       " 'e83',\n",
       " 'cat',\n",
       " 'hor',\n",
       " 'dog',\n",
       " 'cat',\n",
       " 'OIP',\n",
       " 'cat',\n",
       " 'hor',\n",
       " 'e83',\n",
       " 'e83',\n",
       " 'cat',\n",
       " 'hor',\n",
       " 'ea3',\n",
       " 'dog',\n",
       " 'cat',\n",
       " 'hor',\n",
       " 'dog',\n",
       " 'hor',\n",
       " 'OIP',\n",
       " 'OIP',\n",
       " 'hor',\n",
       " 'ea3',\n",
       " 'cat',\n",
       " 'hor',\n",
       " 'OIP',\n",
       " 'cat',\n",
       " 'OIP',\n",
       " 'dog',\n",
       " 'OIP',\n",
       " 'dog',\n",
       " 'cat',\n",
       " 'dog',\n",
       " 'cat',\n",
       " 'OIP',\n",
       " 'OIP',\n",
       " 'OIP',\n",
       " 'cat',\n",
       " 'cat',\n",
       " 'cat',\n",
       " 'ea3',\n",
       " 'hor',\n",
       " 'cat',\n",
       " 'hor',\n",
       " 'OIP',\n",
       " 'OIP',\n",
       " 'dog',\n",
       " 'hor',\n",
       " 'dog',\n",
       " 'hor',\n",
       " 'cat',\n",
       " 'ea3',\n",
       " 'hor',\n",
       " 'OIP',\n",
       " 'hor',\n",
       " 'hor',\n",
       " 'cat',\n",
       " 'e83',\n",
       " 'dog',\n",
       " 'dog',\n",
       " 'e83',\n",
       " 'dog',\n",
       " 'cat',\n",
       " 'OIP',\n",
       " 'dog',\n",
       " 'hor',\n",
       " 'hor',\n",
       " 'e83',\n",
       " 'OIP',\n",
       " 'cat',\n",
       " 'ea3',\n",
       " 'hor',\n",
       " 'hor',\n",
       " 'cat',\n",
       " 'dog',\n",
       " 'cat',\n",
       " 'OIP',\n",
       " 'dog',\n",
       " 'cat',\n",
       " 'OIP',\n",
       " 'e83',\n",
       " 'OIP',\n",
       " 'OIP',\n",
       " 'e83',\n",
       " 'dog',\n",
       " 'dog',\n",
       " 'cat',\n",
       " 'cat',\n",
       " 'OIP',\n",
       " 'hor',\n",
       " 'hor',\n",
       " 'cat',\n",
       " 'hor',\n",
       " 'dog',\n",
       " 'e83',\n",
       " 'dog',\n",
       " 'e83',\n",
       " 'e83',\n",
       " 'hor',\n",
       " 'cat',\n",
       " 'OIP',\n",
       " 'ea3',\n",
       " 'cat',\n",
       " 'hor',\n",
       " 'hor',\n",
       " 'OIP',\n",
       " 'OIP',\n",
       " 'cat',\n",
       " 'OIP',\n",
       " 'hor',\n",
       " 'e83',\n",
       " 'cat',\n",
       " 'cat',\n",
       " 'OIP',\n",
       " 'dog',\n",
       " 'dog',\n",
       " 'dog',\n",
       " 'ea3',\n",
       " 'ea3',\n",
       " 'hor',\n",
       " 'dog',\n",
       " 'cat',\n",
       " 'cat',\n",
       " 'e83',\n",
       " 'ea3',\n",
       " 'OIP',\n",
       " 'e83',\n",
       " 'OIP',\n",
       " 'hor',\n",
       " 'OIP',\n",
       " 'cat',\n",
       " 'OIP',\n",
       " 'hor',\n",
       " 'e83',\n",
       " 'ea3',\n",
       " 'e13',\n",
       " 'OIP',\n",
       " 'dog',\n",
       " 'dog',\n",
       " 'dog',\n",
       " 'OIP',\n",
       " 'dog',\n",
       " 'e83',\n",
       " 'dog',\n",
       " 'cat',\n",
       " 'hor',\n",
       " 'hor',\n",
       " 'hor',\n",
       " 'hor',\n",
       " 'dog',\n",
       " 'hor',\n",
       " 'cat',\n",
       " 'ea3',\n",
       " 'hor',\n",
       " 'OIP',\n",
       " 'ea3',\n",
       " 'hor',\n",
       " 'dog',\n",
       " 'OIP',\n",
       " 'dog',\n",
       " 'ea3',\n",
       " 'cat',\n",
       " 'dog',\n",
       " 'cat',\n",
       " 'e83',\n",
       " 'e83',\n",
       " 'hor',\n",
       " 'dog',\n",
       " 'dog',\n",
       " 'cat',\n",
       " 'OIP',\n",
       " 'e83',\n",
       " 'OIP',\n",
       " 'ea3',\n",
       " 'dog',\n",
       " 'cat',\n",
       " 'ea3',\n",
       " 'cat',\n",
       " 'OIP',\n",
       " 'OIP',\n",
       " 'OIP',\n",
       " 'dog',\n",
       " 'e83',\n",
       " 'OIP']"
      ]
     },
     "execution_count": 61,
     "metadata": {},
     "output_type": "execute_result"
    }
   ],
   "source": [
    "train_labels"
   ]
  },
  {
   "cell_type": "code",
   "execution_count": 62,
   "metadata": {},
   "outputs": [
    {
     "name": "stdout",
     "output_type": "stream",
     "text": [
      "['cat', 'OIP', 'e83', 'hor', 'cat', 'cat', 'hor', 'dog', 'hor', 'ea3', 'OIP', 'hor', 'cat', 'cat', 'ea3', 'cat', 'OIP', 'OIP', 'dog', 'OIP', 'OIP', 'cat', 'cat', 'OIP', 'hor', 'OIP', 'e83', 'e83', 'OIP', 'OIP', 'hor', 'hor', 'dog', 'dog', 'hor', 'dog', 'OIP', 'e83', 'OIP', 'OIP', 'e13', 'cat', 'OIP', 'e83', 'dog', 'cat', 'dog', 'dog', 'hor', 'e03', 'dog', 'dog', 'hor', 'e83', 'cat', 'OIP', 'hor', 'OIP', 'OIP', 'dog', 'OIP', 'dog', 'hor', 'ea3', 'e83', 'e83', 'e83', 'ea3', 'e83', 'dog', 'hor', 'hor', 'OIP', 'cat', 'e83', 'dog', 'ea3', 'dog', 'hor', 'cat', 'cat', 'e83', 'ea3', 'cat', 'cat', 'dog', 'dog', 'dog', 'dog', 'ea3', 'hor', 'hor', 'hor', 'OIP', 'cat', 'cat', 'dog', 'OIP', 'hor', 'OIP', 'cat', 'ea3', 'OIP', 'dog', 'dog', 'ea3', 'dog', 'dog', 'OIP', 'dog', 'OIP', 'e83', 'cat', 'hor', 'hor', 'OIP', 'e83', 'dog', 'e83', 'dog', 'hor', 'e83', 'e83', 'cat', 'cat', 'dog', 'hor', 'ea3', 'cat', 'OIP', 'OIP', 'OIP', 'cat', 'hor', 'OIP', 'OIP', 'dog', 'cat', 'OIP', 'dog', 'dog', 'dog', 'hor', 'cat', 'dog', 'hor', 'dog', 'OIP', 'cat', 'dog', 'dog', 'dog', 'OIP', 'OIP', 'e83', 'hor', 'ea3', 'OIP', 'OIP', 'hor', 'hor', 'OIP', 'hor', 'e83', 'e13', 'e83', 'dog', 'cat', 'OIP', 'e83', 'dog', 'OIP', 'cat', 'OIP', 'cat', 'cat', 'hor', 'cat', 'hor', 'dog', 'cat', 'hor', 'hor', 'hor', 'OIP', 'dog', 'cat', 'e13', 'cat', 'cat', 'cat', 'hor', 'dog', 'hor', 'dog', 'OIP', 'e83', 'OIP', 'e83', 'hor', 'OIP', 'e83', 'e83', 'hor', 'cat', 'dog', 'dog', 'dog', 'e83', 'OIP', 'e83', 'OIP', 'cat', 'dog', 'dog', 'hor', 'OIP', 'OIP', 'e13', 'dog', 'dog', 'hor', 'dog', 'cat', 'dog', 'hor', 'hor', 'OIP', 'e83', 'dog', 'cat', 'dog', 'cat', 'ea3', 'hor', 'cat', 'e83', 'dog', 'dog', 'hor', 'cat', 'hor', 'OIP', 'cat', 'cat', 'e83', 'OIP', 'dog', 'dog', 'dog', 'ea3', 'cat', 'cat', 'cat', 'dog', 'dog', 'hor', 'ea3', 'ea3', 'hor', 'hor', 'e83', 'cat', 'hor', 'cat', 'dog', 'OIP', 'cat', 'cat', 'hor', 'e83', 'ea3', 'hor', 'e83', 'hor', 'e83', 'e83', 'hor', 'dog', 'hor', 'hor', 'e83', 'OIP', 'cat', 'e83', 'ea3', 'ea3', 'e83', 'dog', 'cat', 'hor', 'cat', 'dog', 'hor', 'cat', 'dog', 'cat', 'e83', 'cat', 'hor', 'dog', 'cat', 'OIP', 'cat', 'hor', 'e83', 'e83', 'cat', 'hor', 'ea3', 'dog', 'cat', 'hor', 'dog', 'hor', 'OIP', 'OIP', 'hor', 'ea3', 'cat', 'hor', 'OIP', 'cat', 'OIP', 'dog', 'OIP', 'dog', 'cat', 'dog', 'cat', 'OIP', 'OIP', 'OIP', 'cat', 'cat', 'cat', 'ea3', 'hor', 'cat', 'hor', 'OIP', 'OIP', 'dog', 'hor', 'dog', 'hor', 'cat', 'ea3', 'hor', 'OIP', 'hor', 'hor', 'cat', 'e83', 'dog', 'dog', 'e83', 'dog', 'cat', 'OIP', 'dog', 'hor', 'hor', 'e83', 'OIP', 'cat', 'ea3', 'hor', 'hor', 'cat', 'dog', 'cat', 'OIP', 'dog', 'cat', 'OIP', 'e83', 'OIP', 'OIP', 'e83', 'dog', 'dog', 'cat', 'cat', 'OIP', 'hor', 'hor', 'cat', 'hor', 'dog', 'e83', 'dog', 'e83', 'e83', 'hor', 'cat', 'OIP', 'ea3', 'cat', 'hor', 'hor', 'OIP', 'OIP', 'cat', 'OIP', 'hor', 'e83', 'cat', 'cat', 'OIP', 'dog', 'dog', 'dog', 'ea3', 'ea3', 'hor', 'dog', 'cat', 'cat', 'e83', 'ea3', 'OIP', 'e83', 'OIP', 'hor', 'OIP', 'cat', 'OIP', 'hor', 'e83', 'ea3', 'e13', 'OIP', 'dog', 'dog', 'dog', 'OIP', 'dog', 'e83', 'dog', 'cat', 'hor', 'hor', 'hor', 'hor', 'dog', 'hor', 'cat', 'ea3', 'hor', 'OIP', 'ea3', 'hor', 'dog', 'OIP', 'dog', 'ea3', 'cat', 'dog', 'cat', 'e83', 'e83', 'hor', 'dog', 'dog', 'cat', 'OIP', 'e83', 'OIP', 'ea3', 'dog', 'cat', 'ea3', 'cat', 'OIP', 'OIP', 'OIP', 'dog', 'e83', 'OIP']\n",
      "[2, 3, 4, 0, 2, 2, 0, 1, 0, 4, 3, 0, 2, 2, 4, 2, 3, 3, 1, 3, 3, 2, 2, 3, 0, 3, 4, 4, 3, 3, 0, 0, 1, 1, 0, 1, 3, 4, 3, 3, 4, 2, 3, 4, 1, 2, 1, 1, 0, 4, 1, 1, 0, 4, 2, 3, 0, 3, 3, 1, 3, 1, 0, 4, 4, 4, 4, 4, 4, 1, 0, 0, 3, 2, 4, 1, 4, 1, 0, 2, 2, 4, 4, 2, 2, 1, 1, 1, 1, 4, 0, 0, 0, 3, 2, 2, 1, 3, 0, 3, 2, 4, 3, 1, 1, 4, 1, 1, 3, 1, 3, 4, 2, 0, 0, 3, 4, 1, 4, 1, 0, 4, 4, 2, 2, 1, 0, 4, 2, 3, 3, 3, 2, 0, 3, 3, 1, 2, 3, 1, 1, 1, 0, 2, 1, 0, 1, 3, 2, 1, 1, 1, 3, 3, 4, 0, 4, 3, 3, 0, 0, 3, 0, 4, 4, 4, 1, 2, 3, 4, 1, 3, 2, 3, 2, 2, 0, 2, 0, 1, 2, 0, 0, 0, 3, 1, 2, 4, 2, 2, 2, 0, 1, 0, 1, 3, 4, 3, 4, 0, 3, 4, 4, 0, 2, 1, 1, 1, 4, 3, 4, 3, 2, 1, 1, 0, 3, 3, 4, 1, 1, 0, 1, 2, 1, 0, 0, 3, 4, 1, 2, 1, 2, 4, 0, 2, 4, 1, 1, 0, 2, 0, 3, 2, 2, 4, 3, 1, 1, 1, 4, 2, 2, 2, 1, 1, 0, 4, 4, 0, 0, 4, 2, 0, 2, 1, 3, 2, 2, 0, 4, 4, 0, 4, 0, 4, 4, 0, 1, 0, 0, 4, 3, 2, 4, 4, 4, 4, 1, 2, 0, 2, 1, 0, 2, 1, 2, 4, 2, 0, 1, 2, 3, 2, 0, 4, 4, 2, 0, 4, 1, 2, 0, 1, 0, 3, 3, 0, 4, 2, 0, 3, 2, 3, 1, 3, 1, 2, 1, 2, 3, 3, 3, 2, 2, 2, 4, 0, 2, 0, 3, 3, 1, 0, 1, 0, 2, 4, 0, 3, 0, 0, 2, 4, 1, 1, 4, 1, 2, 3, 1, 0, 0, 4, 3, 2, 4, 0, 0, 2, 1, 2, 3, 1, 2, 3, 4, 3, 3, 4, 1, 1, 2, 2, 3, 0, 0, 2, 0, 1, 4, 1, 4, 4, 0, 2, 3, 4, 2, 0, 0, 3, 3, 2, 3, 0, 4, 2, 2, 3, 1, 1, 1, 4, 4, 0, 1, 2, 2, 4, 4, 3, 4, 3, 0, 3, 2, 3, 0, 4, 4, 4, 3, 1, 1, 1, 3, 1, 4, 1, 2, 0, 0, 0, 0, 1, 0, 2, 4, 0, 3, 4, 0, 1, 3, 1, 4, 2, 1, 2, 4, 4, 0, 1, 1, 2, 3, 4, 3, 4, 1, 2, 4, 2, 3, 3, 3, 1, 4, 3]\n"
     ]
    }
   ],
   "source": [
    "print(train_labels)\n",
    "#train_labels= [0 if i =='hor' else 1 if i =='dog' else 2 for i in train_labels]\n",
    "train_labels= [0 if i =='hor' else 1 if i =='dog' else 2 if i == 'cat' else 3 if i == 'OIP' else 4 for i in train_labels]\n",
    "print(train_labels)"
   ]
  },
  {
   "cell_type": "code",
   "execution_count": 63,
   "metadata": {},
   "outputs": [
    {
     "name": "stdout",
     "output_type": "stream",
     "text": [
      "['OIP', 'e83', 'hor', 'OIP', 'cat', 'dog', 'OIP', 'ea3', 'OIP', 'dog', 'OIP', 'OIP', 'OIP', 'hor', 'e83', 'cat', 'OIP', 'cat', 'cat', 'OIP', 'OIP', 'hor', 'hor', 'hor', 'e83', 'hor', 'OIP', 'cat', 'hor', 'e83', 'hor', 'cat', 'OIP', 'dog', 'cat', 'ea3', 'cat', 'hor', 'e83', 'dog', 'e13', 'OIP', 'hor', 'hor', 'OIP', 'cat', 'ea3', 'OIP', 'OIP', 'hor', 'dog', 'dog', 'OIP', 'hor', 'hor', 'dog', 'cat', 'cat', 'cat', 'cat', 'OIP', 'cat', 'dog', 'hor', 'hor', 'OIP', 'hor', 'hor', 'OIP', 'dog', 'dog', 'OIP', 'e83', 'e83', 'e83', 'hor', 'dog', 'cat', 'hor', 'e83', 'dog', 'e83', 'hor', 'e13', 'OIP', 'OIP', 'cat', 'cat', 'e83', 'cat', 'cat', 'hor', 'OIP', 'dog', 'dog', 'dog', 'cat', 'OIP', 'e83', 'OIP', 'OIP', 'cat', 'hor', 'dog', 'OIP', 'e83', 'cat', 'dog', 'dog', 'e83', 'cat', 'ea3', 'hor', 'hor', 'e83', 'e83', 'dog', 'cat', 'hor', 'e83']\n",
      "[3, 4, 0, 3, 2, 1, 3, 4, 3, 1, 3, 3, 3, 0, 4, 2, 3, 2, 2, 3, 3, 0, 0, 0, 4, 0, 3, 2, 0, 4, 0, 2, 3, 1, 2, 4, 2, 0, 4, 1, 4, 3, 0, 0, 3, 2, 4, 3, 3, 0, 1, 1, 3, 0, 0, 1, 2, 2, 2, 2, 3, 2, 1, 0, 0, 3, 0, 0, 3, 1, 1, 3, 4, 4, 4, 0, 1, 2, 0, 4, 1, 4, 0, 4, 3, 3, 2, 2, 4, 2, 2, 0, 3, 1, 1, 1, 2, 3, 4, 3, 3, 2, 0, 1, 3, 4, 2, 1, 1, 4, 2, 4, 0, 0, 4, 4, 1, 2, 0, 4]\n"
     ]
    }
   ],
   "source": [
    "print(test_labels)\n",
    "#train_labels= [0 if i =='hor' else 1 if i =='dog' else 2 for i in train_labels]\n",
    "test_labels= [0 if i =='hor' else 1 if i =='dog' else 2 if i == 'cat' else 3 if i == 'OIP' else 4 for i in test_labels]\n",
    "print(test_labels)"
   ]
  },
  {
   "cell_type": "code",
   "execution_count": 64,
   "metadata": {},
   "outputs": [
    {
     "name": "stdout",
     "output_type": "stream",
     "text": [
      "256\n",
      "480\n",
      "120\n",
      "Original label :  0\n",
      "After conversion to categorical ( one-hot ) :  [1. 0. 0. 0. 0.]\n",
      "Original label :  3\n",
      "After conversion to categorical ( one-hot ) :  [0. 0. 0. 1. 0.]\n"
     ]
    }
   ],
   "source": [
    "from keras.utils import to_categorical\n",
    "\n",
    "nRows,nCols = train_images.shape[1:]\n",
    "nDims = nRows\n",
    "print(nCols)\n",
    "train_data = train_images.reshape(train_images.shape[0], nRows, nCols, 1)\n",
    "test_data = test_images.reshape(test_images.shape[0], nRows, nCols, 1)\n",
    "input_shape = (nRows, nCols, 1)\n",
    "train_data = train_data.astype('float32')\n",
    "test_data = test_data.astype('float32')\n",
    "train_data /= 255\n",
    "test_data /= 255\n",
    "print(len(train_labels))\n",
    "print(len(test_labels))\n",
    "train_labels_one_hot = to_categorical(train_labels)\n",
    "test_labels_one_hot = to_categorical(test_labels)\n",
    "print('Original label : ', train_labels[11])\n",
    "print('After conversion to categorical ( one-hot ) : ', train_labels_one_hot[11])\n",
    "print('Original label : ', test_labels[11])\n",
    "print('After conversion to categorical ( one-hot ) : ', test_labels_one_hot[11])"
   ]
  },
  {
   "cell_type": "code",
   "execution_count": 65,
   "metadata": {},
   "outputs": [],
   "source": [
    "from keras import optimizers\n",
    "keras.optimizers.Adam(learning_rate=0.001, beta_1=0.9, beta_2=0.999, amsgrad=False)\n",
    "final_model.compile(loss='binary_crossentropy', optimizer='Adam', metrics=['accuracy'])"
   ]
  },
  {
   "cell_type": "code",
   "execution_count": 66,
   "metadata": {},
   "outputs": [
    {
     "name": "stdout",
     "output_type": "stream",
     "text": [
      "Train on 480 samples, validate on 120 samples\n",
      "Epoch 1/10\n",
      "480/480 [==============================] - 98s 204ms/step - loss: 0.5129 - accuracy: 0.7994 - val_loss: 0.4993 - val_accuracy: 0.8000\n",
      "Epoch 2/10\n",
      "480/480 [==============================] - 98s 204ms/step - loss: 0.4967 - accuracy: 0.7996 - val_loss: 0.4927 - val_accuracy: 0.8013\n",
      "Epoch 3/10\n",
      "480/480 [==============================] - 97s 201ms/step - loss: 0.4792 - accuracy: 0.8053 - val_loss: 0.4663 - val_accuracy: 0.8120\n",
      "Epoch 4/10\n",
      "480/480 [==============================] - 100s 208ms/step - loss: 0.4534 - accuracy: 0.8111 - val_loss: 0.4724 - val_accuracy: 0.8047\n",
      "Epoch 5/10\n",
      "480/480 [==============================] - 97s 203ms/step - loss: 0.4358 - accuracy: 0.8172 - val_loss: 0.4644 - val_accuracy: 0.8180\n",
      "Epoch 6/10\n",
      "480/480 [==============================] - 101s 209ms/step - loss: 0.4039 - accuracy: 0.8266 - val_loss: 0.4625 - val_accuracy: 0.8157\n",
      "Epoch 7/10\n",
      "480/480 [==============================] - 98s 205ms/step - loss: 0.3587 - accuracy: 0.8449 - val_loss: 0.4618 - val_accuracy: 0.8193\n",
      "Epoch 8/10\n",
      "480/480 [==============================] - 100s 208ms/step - loss: 0.2960 - accuracy: 0.8746 - val_loss: 0.4925 - val_accuracy: 0.8057\n",
      "Epoch 9/10\n",
      "480/480 [==============================] - 104s 217ms/step - loss: 0.2196 - accuracy: 0.9106 - val_loss: 0.6396 - val_accuracy: 0.7800\n",
      "Epoch 10/10\n",
      "480/480 [==============================] - 117s 244ms/step - loss: 0.1426 - accuracy: 0.9461 - val_loss: 0.8662 - val_accuracy: 0.7630\n"
     ]
    }
   ],
   "source": [
    "history = final_model.fit(train_data,train_labels_one_hot,batch_size=1,epochs=10,verbose=1,validation_data=(test_data, test_labels_one_hot))"
   ]
  },
  {
   "cell_type": "code",
   "execution_count": 67,
   "metadata": {},
   "outputs": [],
   "source": [
    "img='/home/apiiit-rkv/Desktop/h1.jpg'"
   ]
  },
  {
   "cell_type": "code",
   "execution_count": 68,
   "metadata": {},
   "outputs": [],
   "source": [
    "imgs0 = np.empty((256, 256), int)\n",
    "img = plt.imread('/home/apiiit-rkv/Desktop/d1.jpeg')\n",
    "img  = np.resize(img, (256, 256))\n",
    "#imgs0=img\n",
    "#print(imgs0.shape)\n",
    "#imgs0 = np.reshape(imgs0, [ 1, 256, 256])\n",
    "#print(imgs0.shape)\n",
    "#imgs0.shape[0]\n",
    "fin = img.reshape(1, 256, 256, 1)"
   ]
  },
  {
   "cell_type": "code",
   "execution_count": 70,
   "metadata": {},
   "outputs": [],
   "source": [
    "prediction=final_model.predict(fin,batch_size=None,steps=1)"
   ]
  },
  {
   "cell_type": "code",
   "execution_count": 71,
   "metadata": {},
   "outputs": [
    {
     "data": {
      "text/plain": [
       "array([[0.0000000e+00, 0.0000000e+00, 1.0000000e+00, 0.0000000e+00,\n",
       "        0.0000000e+00],\n",
       "       [1.0000000e+00, 6.9325376e-30, 0.0000000e+00, 0.0000000e+00,\n",
       "        0.0000000e+00],\n",
       "       [0.0000000e+00, 1.0000000e+00, 0.0000000e+00, 0.0000000e+00,\n",
       "        0.0000000e+00],\n",
       "       [0.0000000e+00, 0.0000000e+00, 0.0000000e+00, 0.0000000e+00,\n",
       "        1.0000000e+00],\n",
       "       [0.0000000e+00, 0.0000000e+00, 0.0000000e+00, 1.0000000e+00,\n",
       "        0.0000000e+00]], dtype=float32)"
      ]
     },
     "execution_count": 71,
     "metadata": {},
     "output_type": "execute_result"
    }
   ],
   "source": [
    "prediction"
   ]
  },
  {
   "cell_type": "code",
   "execution_count": null,
   "metadata": {},
   "outputs": [],
   "source": []
  }
 ],
 "metadata": {
  "kernelspec": {
   "display_name": "Python 3",
   "language": "python",
   "name": "python3"
  },
  "language_info": {
   "codemirror_mode": {
    "name": "ipython",
    "version": 3
   },
   "file_extension": ".py",
   "mimetype": "text/x-python",
   "name": "python",
   "nbconvert_exporter": "python",
   "pygments_lexer": "ipython3",
   "version": "3.7.4"
  }
 },
 "nbformat": 4,
 "nbformat_minor": 2
}
